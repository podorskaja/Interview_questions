{
 "cells": [
  {
   "cell_type": "markdown",
   "metadata": {
    "toc": "true"
   },
   "source": [
    " # Table of Contents\n",
    "<div class=\"toc\" style=\"margin-top: 1em;\"><ul class=\"toc-item\" id=\"toc-level0\"><li><span><a href=\"http://localhost:8888/notebooks/PythonProjects/Interview_questions/Interview_questions.ipynb#Convert-minutes-to-hours-and-minutes-(clock)\" data-toc-modified-id=\"Convert-minutes-to-hours-and-minutes-(clock)-1\"><span class=\"toc-item-num\">1&nbsp;&nbsp;</span>Convert minutes to hours and minutes (clock)</a></span></li><li><span><a href=\"http://localhost:8888/notebooks/PythonProjects/Interview_questions/Interview_questions.ipynb#Excel-columns-(letter-to-number)\" data-toc-modified-id=\"Excel-columns-(letter-to-number)-2\"><span class=\"toc-item-num\">2&nbsp;&nbsp;</span>Excel columns (letter to number)</a></span></li><li><span><a href=\"http://localhost:8888/notebooks/PythonProjects/Interview_questions/Interview_questions.ipynb#Cubes-dicer\" data-toc-modified-id=\"Cubes-dicer-3\"><span class=\"toc-item-num\">3&nbsp;&nbsp;</span>Cubes dicer</a></span></li><li><span><a href=\"http://localhost:8888/notebooks/PythonProjects/Interview_questions/Interview_questions.ipynb#Cubes-left-after-dicing\" data-toc-modified-id=\"Cubes-left-after-dicing-4\"><span class=\"toc-item-num\">4&nbsp;&nbsp;</span>Cubes left after dicing</a></span></li></ul></div>"
   ]
  },
  {
   "cell_type": "markdown",
   "metadata": {},
   "source": [
    "# Convert minutes to hours and minutes (clock)"
   ]
  },
  {
   "cell_type": "code",
   "execution_count": 82,
   "metadata": {
    "ExecuteTime": {
     "end_time": "2018-02-24T14:31:58.901215Z",
     "start_time": "2018-02-24T14:31:58.895660Z"
    },
    "collapsed": true
   },
   "outputs": [],
   "source": [
    "def time (x):\n",
    "    hours = (x // 60) % 24\n",
    "    minutes = x % 60\n",
    "    \n",
    "    return hours, minutes"
   ]
  },
  {
   "cell_type": "code",
   "execution_count": 80,
   "metadata": {
    "ExecuteTime": {
     "end_time": "2018-02-24T14:31:49.723917Z",
     "start_time": "2018-02-24T14:31:49.707431Z"
    }
   },
   "outputs": [
    {
     "data": {
      "text/plain": [
       "(20, 46)"
      ]
     },
     "execution_count": 80,
     "metadata": {},
     "output_type": "execute_result"
    }
   ],
   "source": [
    "x = 9886\n",
    "time(x)"
   ]
  },
  {
   "cell_type": "code",
   "execution_count": 81,
   "metadata": {
    "ExecuteTime": {
     "end_time": "2018-02-24T14:31:49.943721Z",
     "start_time": "2018-02-24T14:31:49.936563Z"
    }
   },
   "outputs": [
    {
     "data": {
      "text/plain": [
       "(0, 0)"
      ]
     },
     "execution_count": 81,
     "metadata": {},
     "output_type": "execute_result"
    }
   ],
   "source": [
    "time(1440)"
   ]
  },
  {
   "cell_type": "markdown",
   "metadata": {
    "ExecuteTime": {
     "end_time": "2018-02-24T17:42:39.061625Z",
     "start_time": "2018-02-24T17:42:39.053949Z"
    }
   },
   "source": [
    "# Excel columns (letter to number) "
   ]
  },
  {
   "cell_type": "code",
   "execution_count": 113,
   "metadata": {
    "ExecuteTime": {
     "end_time": "2018-02-24T18:03:42.932912Z",
     "start_time": "2018-02-24T18:03:42.926989Z"
    },
    "collapsed": true
   },
   "outputs": [],
   "source": [
    "def letter_to_number(string):\n",
    "    \n",
    "    total = 0\n",
    "    for index, letter in enumerate(reversed(string)): \n",
    "        position = 26**index * (ord(letter)- 64)\n",
    "        total += position\n",
    "    return total"
   ]
  },
  {
   "cell_type": "code",
   "execution_count": 118,
   "metadata": {
    "ExecuteTime": {
     "end_time": "2018-02-24T18:04:35.329287Z",
     "start_time": "2018-02-24T18:04:35.323174Z"
    }
   },
   "outputs": [
    {
     "data": {
      "text/plain": [
       "1"
      ]
     },
     "execution_count": 118,
     "metadata": {},
     "output_type": "execute_result"
    }
   ],
   "source": [
    "letter_to_number(\"A\")"
   ]
  },
  {
   "cell_type": "code",
   "execution_count": 119,
   "metadata": {
    "ExecuteTime": {
     "end_time": "2018-02-24T18:04:43.070039Z",
     "start_time": "2018-02-24T18:04:43.063787Z"
    }
   },
   "outputs": [
    {
     "data": {
      "text/plain": [
       "27"
      ]
     },
     "execution_count": 119,
     "metadata": {},
     "output_type": "execute_result"
    }
   ],
   "source": [
    "letter_to_number(\"AA\")"
   ]
  },
  {
   "cell_type": "code",
   "execution_count": 120,
   "metadata": {
    "ExecuteTime": {
     "end_time": "2018-02-24T18:04:49.678213Z",
     "start_time": "2018-02-24T18:04:49.669718Z"
    }
   },
   "outputs": [
    {
     "data": {
      "text/plain": [
       "28"
      ]
     },
     "execution_count": 120,
     "metadata": {},
     "output_type": "execute_result"
    }
   ],
   "source": [
    "letter_to_number(\"AB\")"
   ]
  },
  {
   "cell_type": "code",
   "execution_count": 1,
   "metadata": {
    "ExecuteTime": {
     "end_time": "2018-02-24T19:17:47.961946Z",
     "start_time": "2018-02-24T19:17:47.926989Z"
    }
   },
   "outputs": [
    {
     "data": {
      "text/plain": [
       "2"
      ]
     },
     "execution_count": 1,
     "metadata": {},
     "output_type": "execute_result"
    }
   ],
   "source": [
    "(26**2+26+2)%26"
   ]
  },
  {
   "cell_type": "code",
   "execution_count": null,
   "metadata": {
    "collapsed": true
   },
   "outputs": [],
   "source": [
    "sadfsadf"
   ]
  },
  {
   "cell_type": "code",
   "execution_count": 2,
   "metadata": {
    "ExecuteTime": {
     "end_time": "2018-02-24T19:18:35.904141Z",
     "start_time": "2018-02-24T19:18:35.893670Z"
    }
   },
   "outputs": [
    {
     "data": {
      "text/plain": [
       "27.0"
      ]
     },
     "execution_count": 2,
     "metadata": {},
     "output_type": "execute_result"
    }
   ],
   "source": [
    "(26**2+26)/26"
   ]
  },
  {
   "cell_type": "markdown",
   "metadata": {
    "collapsed": true
   },
   "source": [
    "# Cubes dicer"
   ]
  },
  {
   "cell_type": "code",
   "execution_count": 1,
   "metadata": {
    "ExecuteTime": {
     "end_time": "2018-02-25T14:33:02.823674Z",
     "start_time": "2018-02-25T14:33:02.808497Z"
    },
    "collapsed": true
   },
   "outputs": [],
   "source": [
    "def cubes (n):\n",
    "    c = (n+1)**3\n",
    "    return c"
   ]
  },
  {
   "cell_type": "code",
   "execution_count": 2,
   "metadata": {
    "ExecuteTime": {
     "end_time": "2018-02-25T14:33:13.849747Z",
     "start_time": "2018-02-25T14:33:13.832300Z"
    }
   },
   "outputs": [
    {
     "data": {
      "text/plain": [
       "27"
      ]
     },
     "execution_count": 2,
     "metadata": {},
     "output_type": "execute_result"
    }
   ],
   "source": [
    "cubes(2)"
   ]
  },
  {
   "cell_type": "markdown",
   "metadata": {},
   "source": [
    "# Cubes left after dicing"
   ]
  },
  {
   "cell_type": "code",
   "execution_count": 3,
   "metadata": {
    "ExecuteTime": {
     "end_time": "2018-02-25T14:33:33.646113Z",
     "start_time": "2018-02-25T14:33:33.641401Z"
    },
    "collapsed": true
   },
   "outputs": [],
   "source": [
    "def left_cubes (n):\n",
    "    l = (n-1)**3\n",
    "    return l"
   ]
  },
  {
   "cell_type": "code",
   "execution_count": 4,
   "metadata": {
    "ExecuteTime": {
     "end_time": "2018-02-25T14:33:37.876102Z",
     "start_time": "2018-02-25T14:33:37.869451Z"
    }
   },
   "outputs": [
    {
     "data": {
      "text/plain": [
       "64"
      ]
     },
     "execution_count": 4,
     "metadata": {},
     "output_type": "execute_result"
    }
   ],
   "source": [
    "left_cubes(5)"
   ]
  },
  {
   "cell_type": "markdown",
   "metadata": {},
   "source": [
    "#"
   ]
  }
 ],
 "metadata": {
  "kernelspec": {
   "display_name": "Python 3",
   "language": "python",
   "name": "python3"
  },
  "language_info": {
   "codemirror_mode": {
    "name": "ipython",
    "version": 3
   },
   "file_extension": ".py",
   "mimetype": "text/x-python",
   "name": "python",
   "nbconvert_exporter": "python",
   "pygments_lexer": "ipython3",
   "version": "3.6.0"
  },
  "toc": {
   "collapse_to_match_collapsible_headings": false,
   "colors": {
    "hover_highlight": "#DAA520",
    "navigate_num": "#000000",
    "navigate_text": "#333333",
    "running_highlight": "#FF0000",
    "selected_highlight": "#FFD700",
    "sidebar_border": "#EEEEEE",
    "wrapper_background": "#FFFFFF"
   },
   "moveMenuLeft": true,
   "nav_menu": {
    "height": "12px",
    "width": "252px"
   },
   "navigate_menu": true,
   "number_sections": true,
   "sideBar": true,
   "skip_h1_title": false,
   "threshold": 4,
   "toc_cell": true,
   "toc_section_display": "block",
   "toc_window_display": false,
   "widenNotebook": false
  }
 },
 "nbformat": 4,
 "nbformat_minor": 2
}
