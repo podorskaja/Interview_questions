{
 "cells": [
  {
   "cell_type": "markdown",
   "metadata": {
    "toc": "true"
   },
   "source": [
    " # Table of Contents\n",
    "<div class=\"toc\" style=\"margin-top: 1em;\"><ul class=\"toc-item\" id=\"toc-level0\"><li><span><a href=\"http://localhost:8888/notebooks/Interview_questions.ipynb#Convert-minutes-to-hours-and-minutes-(clock)\" data-toc-modified-id=\"Convert-minutes-to-hours-and-minutes-(clock)-1\"><span class=\"toc-item-num\">1&nbsp;&nbsp;</span>Convert minutes to hours and minutes (clock)</a></span></li><li><span><a href=\"http://localhost:8888/notebooks/Interview_questions.ipynb#Excel-columns-(letter-to-number)\" data-toc-modified-id=\"Excel-columns-(letter-to-number)-2\"><span class=\"toc-item-num\">2&nbsp;&nbsp;</span>Excel columns (letter to number)</a></span></li></ul></div>"
   ]
  },
  {
   "cell_type": "markdown",
   "metadata": {},
   "source": [
    "# Convert minutes to hours and minutes (clock)"
   ]
  },
  {
   "cell_type": "code",
   "execution_count": 82,
   "metadata": {
    "ExecuteTime": {
     "end_time": "2018-02-24T14:31:58.901215Z",
     "start_time": "2018-02-24T14:31:58.895660Z"
    },
    "collapsed": true
   },
   "outputs": [],
   "source": [
    "def time (x):\n",
    "    hours = (x // 60) % 24\n",
    "    minutes = x % 60\n",
    "    \n",
    "    return hours, minutes"
   ]
  },
  {
   "cell_type": "code",
   "execution_count": 80,
   "metadata": {
    "ExecuteTime": {
     "end_time": "2018-02-24T14:31:49.723917Z",
     "start_time": "2018-02-24T14:31:49.707431Z"
    }
   },
   "outputs": [
    {
     "data": {
      "text/plain": [
       "(20, 46)"
      ]
     },
     "execution_count": 80,
     "metadata": {},
     "output_type": "execute_result"
    }
   ],
   "source": [
    "x = 9886\n",
    "time(x)"
   ]
  },
  {
   "cell_type": "code",
   "execution_count": 81,
   "metadata": {
    "ExecuteTime": {
     "end_time": "2018-02-24T14:31:49.943721Z",
     "start_time": "2018-02-24T14:31:49.936563Z"
    }
   },
   "outputs": [
    {
     "data": {
      "text/plain": [
       "(0, 0)"
      ]
     },
     "execution_count": 81,
     "metadata": {},
     "output_type": "execute_result"
    }
   ],
   "source": [
    "time(1440)"
   ]
  },
  {
   "cell_type": "markdown",
   "metadata": {
    "ExecuteTime": {
     "end_time": "2018-02-24T17:42:39.061625Z",
     "start_time": "2018-02-24T17:42:39.053949Z"
    }
   },
   "source": [
    "# Excel columns (letter to number) "
   ]
  },
  {
   "cell_type": "code",
   "execution_count": 113,
   "metadata": {
    "ExecuteTime": {
     "end_time": "2018-02-24T18:03:42.932912Z",
     "start_time": "2018-02-24T18:03:42.926989Z"
    }
   },
   "outputs": [],
   "source": [
    "def letter_to_number(string):\n",
    "    \n",
    "    total = 0\n",
    "    for index, letter in enumerate(reversed(string)): \n",
    "        position = 26**index * (ord(letter)- 64)\n",
    "        total += position\n",
    "    return total"
   ]
  },
  {
   "cell_type": "code",
   "execution_count": 118,
   "metadata": {
    "ExecuteTime": {
     "end_time": "2018-02-24T18:04:35.329287Z",
     "start_time": "2018-02-24T18:04:35.323174Z"
    }
   },
   "outputs": [
    {
     "data": {
      "text/plain": [
       "1"
      ]
     },
     "execution_count": 118,
     "metadata": {},
     "output_type": "execute_result"
    }
   ],
   "source": [
    "letter_to_number(\"A\")"
   ]
  },
  {
   "cell_type": "code",
   "execution_count": 119,
   "metadata": {
    "ExecuteTime": {
     "end_time": "2018-02-24T18:04:43.070039Z",
     "start_time": "2018-02-24T18:04:43.063787Z"
    }
   },
   "outputs": [
    {
     "data": {
      "text/plain": [
       "27"
      ]
     },
     "execution_count": 119,
     "metadata": {},
     "output_type": "execute_result"
    }
   ],
   "source": [
    "letter_to_number(\"AA\")"
   ]
  },
  {
   "cell_type": "code",
   "execution_count": 120,
   "metadata": {
    "ExecuteTime": {
     "end_time": "2018-02-24T18:04:49.678213Z",
     "start_time": "2018-02-24T18:04:49.669718Z"
    }
   },
   "outputs": [
    {
     "data": {
      "text/plain": [
       "28"
      ]
     },
     "execution_count": 120,
     "metadata": {},
     "output_type": "execute_result"
    }
   ],
   "source": [
    "letter_to_number(\"AB\")"
   ]
  },
  {
   "cell_type": "code",
   "execution_count": null,
   "metadata": {
    "collapsed": true
   },
   "outputs": [],
   "source": []
  }
 ],
 "metadata": {
  "kernelspec": {
   "display_name": "Python 3",
   "language": "python",
   "name": "python3"
  },
  "language_info": {
   "codemirror_mode": {
    "name": "ipython",
    "version": 3
   },
   "file_extension": ".py",
   "mimetype": "text/x-python",
   "name": "python",
   "nbconvert_exporter": "python",
   "pygments_lexer": "ipython3",
   "version": "3.6.0"
  },
  "toc": {
   "collapse_to_match_collapsible_headings": false,
   "colors": {
    "hover_highlight": "#DAA520",
    "navigate_num": "#000000",
    "navigate_text": "#333333",
    "running_highlight": "#FF0000",
    "selected_highlight": "#FFD700",
    "sidebar_border": "#EEEEEE",
    "wrapper_background": "#FFFFFF"
   },
   "moveMenuLeft": true,
   "nav_menu": {
    "height": "12px",
    "width": "252px"
   },
   "navigate_menu": true,
   "number_sections": true,
   "sideBar": true,
   "skip_h1_title": false,
   "threshold": 4,
   "toc_cell": true,
   "toc_section_display": "block",
   "toc_window_display": false,
   "widenNotebook": false
  }
 },
 "nbformat": 4,
 "nbformat_minor": 2
}
